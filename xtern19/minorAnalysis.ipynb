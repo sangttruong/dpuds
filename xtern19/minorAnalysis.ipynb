{
  "nbformat": 4,
  "nbformat_minor": 0,
  "metadata": {
    "colab": {
      "name": "Xtern2019.ipynb",
      "provenance": [],
      "include_colab_link": true
    },
    "kernelspec": {
      "name": "python3",
      "display_name": "Python 3"
    }
  },
  "cells": [
    {
      "cell_type": "markdown",
      "metadata": {
        "id": "view-in-github",
        "colab_type": "text"
      },
      "source": [
        "<a href=\"https://colab.research.google.com/github/sangttruong/XTernDS19/blob/master/minorAnalysis.ipynb\" target=\"_parent\"><img src=\"https://colab.research.google.com/assets/colab-badge.svg\" alt=\"Open In Colab\"/></a>"
      ]
    },
    {
      "cell_type": "code",
      "metadata": {
        "id": "o9Q-6YVpVVxR",
        "colab_type": "code",
        "colab": {}
      },
      "source": [
        "import pandas as pd\n",
        "import numpy as np\n",
        "from matplotlib import pyplot as plt\n",
        "from matplotlib.pyplot import cm\n",
        "from sklearn.cluster import AgglomerativeClustering\n",
        "import scipy.cluster.hierarchy as sch\n",
        "from google.colab import drive\n",
        "drive.mount('/content/gdrive')\n",
        "in_path = 'gdrive/My Drive/Colab Notebooks/'"
      ],
      "execution_count": 0,
      "outputs": []
    },
    {
      "cell_type": "code",
      "metadata": {
        "id": "DXD8Z5z0WRJZ",
        "colab_type": "code",
        "colab": {}
      },
      "source": [
        "raw = pd.read_csv(in_path + 'Raw.csv')\n",
        "raw.head()\n",
        "x = raw.iloc[:,[1,2]].values\n",
        "\n",
        "dendrogram = sch.dendrogram(sch.linkage(x, method='complete'))\n",
        "\n",
        "model = AgglomerativeClustering(n_clusters=19, affinity='euclidean', linkage='complete')\n",
        "model.fit(x)\n",
        "labels = model.labels_\n",
        "\n",
        "color=cm.rainbow(np.linspace(0,1,19))\n",
        "for i,c in zip(range(19),color):\n",
        "  plt.scatter(x[labels==i, 0], x[labels==i, 1], s=50, marker='o', color= c)"
      ],
      "execution_count": 0,
      "outputs": []
    }
  ]
}